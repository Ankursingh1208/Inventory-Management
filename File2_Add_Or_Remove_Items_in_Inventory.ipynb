{
  "nbformat": 4,
  "nbformat_minor": 0,
  "metadata": {
    "colab": {
      "name": "File2:Add Or Remove Items in Inventory.ipynb",
      "provenance": []
    },
    "kernelspec": {
      "name": "python3",
      "display_name": "Python 3"
    },
    "language_info": {
      "name": "python"
    }
  },
  "cells": [
    {
      "cell_type": "markdown",
      "metadata": {
        "id": "DhNha7paecqJ"
      },
      "source": [
        "**Read Data from JSON**\n",
        "\n"
      ]
    },
    {
      "cell_type": "code",
      "metadata": {
        "id": "EovWJBDog9_a"
      },
      "source": [
        "import json\n",
        "\n",
        "fd = open(\"record.json\",'r')\n",
        "r = fd.read()\n",
        "fd.close()\n",
        "\n",
        "record = json.loads(r)"
      ],
      "execution_count": 1,
      "outputs": []
    },
    {
      "cell_type": "code",
      "metadata": {
        "colab": {
          "base_uri": "https://localhost:8080/"
        },
        "id": "k1Den3KwhM8T",
        "outputId": "e9345de6-d9f3-42b0-ea60-2c10c0e32138"
      },
      "source": [
        "record                 #printing the Inventory record list"
      ],
      "execution_count": 2,
      "outputs": [
        {
          "output_type": "execute_result",
          "data": {
            "text/plain": [
              "{'1928001': {'EXP': 'Oct:2023',\n",
              "  'MFG': 'Aug:2021',\n",
              "  'Price': 100,\n",
              "  'Product_name': 'Amenolado',\n",
              "  'Quantity': 80},\n",
              " '1928002': {'EXP': 'May:2024',\n",
              "  'MFG': 'Jun:2021',\n",
              "  'Price': 140,\n",
              "  'Product_name': 'Ballotin',\n",
              "  'Quantity': 90},\n",
              " '1928003': {'EXP': 'Nov:2023',\n",
              "  'MFG': 'Sep:2021',\n",
              "  'Price': 120,\n",
              "  'Product_name': 'Chocovic',\n",
              "  'Quantity': 50},\n",
              " '1928004': {'EXP': 'Dec:2023',\n",
              "  'MFG': 'Jan:2021',\n",
              "  'Price': 160,\n",
              "  'Product_name': 'Devils_Food',\n",
              "  'Quantity': 70},\n",
              " '1928005': {'EXP': 'Dec:2023',\n",
              "  'MFG': 'Feb:2021',\n",
              "  'Price': 120,\n",
              "  'Product_name': 'Enrober',\n",
              "  'Quantity': 60},\n",
              " '1928006': {'EXP': 'Jan:2022',\n",
              "  'MFG': 'Oct:2021',\n",
              "  'Price': 130,\n",
              "  'Product_name': 'Forastero',\n",
              "  'Quantity': 100},\n",
              " '1928007': {'EXP': 'Oct:2023',\n",
              "  'MFG': 'Aug:2021',\n",
              "  'Price': 100,\n",
              "  'Product_name': 'Ganache',\n",
              "  'Quantity': 80},\n",
              " '1928008': {'EXP': 'May:2024',\n",
              "  'MFG': 'Jun:2021',\n",
              "  'Price': 140,\n",
              "  'Product_name': 'Magra',\n",
              "  'Quantity': 90},\n",
              " '1928009': {'EXP': 'Nov:2023',\n",
              "  'MFG': 'Sep:2021',\n",
              "  'Price': 120,\n",
              "  'Product_name': 'Metate',\n",
              "  'Quantity': 50},\n",
              " '1928010': {'EXP': 'Dec:2023',\n",
              "  'MFG': 'Jan:2021',\n",
              "  'Price': 160,\n",
              "  'Product_name': 'Molinillo',\n",
              "  'Quantity': 70},\n",
              " '1928011': {'EXP': 'Dec:2023',\n",
              "  'MFG': 'Feb:2021',\n",
              "  'Price': 120,\n",
              "  'Product_name': 'Sugar_Bloom',\n",
              "  'Quantity': 60},\n",
              " '1928012': {'EXP': 'Jan:2022',\n",
              "  'MFG': 'Oct:2021',\n",
              "  'Price': 130,\n",
              "  'Product_name': 'Tempering',\n",
              "  'Quantity': 100},\n",
              " '1928013': {'EXP': 'Oct:2023',\n",
              "  'MFG': 'Aug:2021',\n",
              "  'Price': 100,\n",
              "  'Product_name': 'Trinitario',\n",
              "  'Quantity': 80},\n",
              " '1928014': {'EXP': 'May:2024',\n",
              "  'MFG': 'Jun:2021',\n",
              "  'Price': 140,\n",
              "  'Product_name': 'Vanillin',\n",
              "  'Quantity': 90},\n",
              " '1928015': {'EXP': 'Nov:2023',\n",
              "  'MFG': 'Sep:2021',\n",
              "  'Price': 120,\n",
              "  'Product_name': 'Winnowing',\n",
              "  'Quantity': 50},\n",
              " '1928016': {'EXP': 'Dec:2023',\n",
              "  'MFG': 'Jan:2021',\n",
              "  'Price': 160,\n",
              "  'Product_name': 'Cupuacu',\n",
              "  'Quantity': 70},\n",
              " '1928017': {'EXP': 'Dec:2023',\n",
              "  'MFG': 'Feb:2021',\n",
              "  'Price': 120,\n",
              "  'Product_name': 'Conching',\n",
              "  'Quantity': 60},\n",
              " '1928018': {'EXP': 'Jan:2022',\n",
              "  'MFG': 'Oct:2021',\n",
              "  'Price': 130,\n",
              "  'Product_name': 'Chocolatier',\n",
              "  'Quantity': 100},\n",
              " '1928019': {'EXP': 'Oct:2023',\n",
              "  'MFG': 'Aug:2021',\n",
              "  'Price': 100,\n",
              "  'Product_name': 'Bournville',\n",
              "  'Quantity': 80},\n",
              " '1928020': {'EXP': 'May:2024',\n",
              "  'MFG': 'Jun:2021',\n",
              "  'Price': 140,\n",
              "  'Product_name': 'Poppins ',\n",
              "  'Quantity': 90},\n",
              " '1928021': {'EXP': 'Nov:2023',\n",
              "  'MFG': 'Sep:2021',\n",
              "  'Price': 120,\n",
              "  'Product_name': 'Mazelo',\n",
              "  'Quantity': 50},\n",
              " '1928022': {'EXP': 'Dec:2023',\n",
              "  'MFG': 'Jan:2021',\n",
              "  'Price': 160,\n",
              "  'Product_name': 'Skittles',\n",
              "  'Quantity': 70},\n",
              " '1928023': {'EXP': 'Dec:2023',\n",
              "  'MFG': 'Feb:2021',\n",
              "  'Price': 120,\n",
              "  'Product_name': 'Snickers',\n",
              "  'Quantity': 60},\n",
              " '1928024': {'EXP': 'Jan:2022',\n",
              "  'MFG': 'Oct:2021',\n",
              "  'Price': 130,\n",
              "  'Product_name': 'Mars bar',\n",
              "  'Quantity': 100},\n",
              " '1928025': {'EXP': 'Oct:2023',\n",
              "  'MFG': 'Aug:2021',\n",
              "  'Price': 100,\n",
              "  'Product_name': 'Ferrero',\n",
              "  'Quantity': 80},\n",
              " '1928026': {'EXP': 'May:2024',\n",
              "  'MFG': 'Jun:2021',\n",
              "  'Price': 140,\n",
              "  'Product_name': 'Goldenberry',\n",
              "  'Quantity': 90},\n",
              " '1928027': {'EXP': 'Nov:2023',\n",
              "  'MFG': 'Sep:2021',\n",
              "  'Price': 120,\n",
              "  'Product_name': 'Toblerone',\n",
              "  'Quantity': 50},\n",
              " '1928028': {'EXP': 'Dec:2025',\n",
              "  'MFG': 'Jan:2021',\n",
              "  'Price': 160,\n",
              "  'Product_name': 'IntenseDark',\n",
              "  'Quantity': 70},\n",
              " '1928029': {'EXP': 'Dec:2023',\n",
              "  'MFG': 'Feb:2021',\n",
              "  'Price': 120,\n",
              "  'Product_name': 'Lindt',\n",
              "  'Quantity': 60},\n",
              " '1928030': {'EXP': 'Jan:2022',\n",
              "  'MFG': 'Oct:2021',\n",
              "  'Price': 130,\n",
              "  'Product_name': 'Fabelle',\n",
              "  'Quantity': 100}}"
            ]
          },
          "metadata": {},
          "execution_count": 2
        }
      ]
    },
    {
      "cell_type": "markdown",
      "metadata": {
        "id": "UmyvdsyLhXYd"
      },
      "source": [
        "**Add New Item into Inventory**\n"
      ]
    },
    {
      "cell_type": "code",
      "metadata": {
        "colab": {
          "base_uri": "https://localhost:8080/"
        },
        "id": "uPWBhdT0hNIz",
        "outputId": "4db4cbdf-5ac9-4a18-ef1f-a1c639eb1feb"
      },
      "source": [
        "prod_id = (input(\"Enter the ID of Product to Refill :\"))\n",
        "Quantity = int(input(\"Enter the quantity to Refill:\"))\n",
        "\n",
        "if prod_id not in record.keys():               #if Product not exist, then adding new Product\n",
        "  Product_name = (input(\"Enter name of New Product:\"))\n",
        "  Price = int(input(\"Enter price:\"))\n",
        "  MFG = (input(\"Enter product MFG:\"))\n",
        "  EXP =  (input(\"Enter product EXP:\"))\n",
        "  record[prod_id] = {\"Product_name\": Product_name, \"Price\": Price ,  \"Quantity\": Quantity ,\"MFG\": MFG ,\"EXP\": EXP}\n",
        "  print('Quantity Filled In Inventory')\n",
        "\n",
        "else:                                          #if Product exist, updating the Quantity\n",
        "   for key in record.keys():\n",
        "            if(key==prod_id):\n",
        "              record[prod_id]['Quantity']+=Quantity\n",
        "              print('Quantity Filled')\n",
        "              break\n"
      ],
      "execution_count": 4,
      "outputs": [
        {
          "output_type": "stream",
          "name": "stdout",
          "text": [
            "Enter the ID of Product to Refill :1928031\n",
            "Enter the quantity to Refill:23\n",
            "Enter name of New Product:asd\n",
            "Enter price:345\n",
            "Enter product MFG:sep:2021\n",
            "Enter product EXP:Sep:2024\n",
            "Quantity Filled In Inventory\n"
          ]
        }
      ]
    },
    {
      "cell_type": "code",
      "metadata": {
        "colab": {
          "base_uri": "https://localhost:8080/"
        },
        "id": "V9c_kuL3YR2p",
        "outputId": "329cdaa1-fbc3-4fde-c635-c66dcb6200f7"
      },
      "source": [
        "record                                 #Displaying New Inventory Record"
      ],
      "execution_count": 5,
      "outputs": [
        {
          "output_type": "execute_result",
          "data": {
            "text/plain": [
              "{'1928001': {'EXP': 'Oct:2023',\n",
              "  'MFG': 'Aug:2021',\n",
              "  'Price': 100,\n",
              "  'Product_name': 'Amenolado',\n",
              "  'Quantity': 80},\n",
              " '1928002': {'EXP': 'May:2024',\n",
              "  'MFG': 'Jun:2021',\n",
              "  'Price': 140,\n",
              "  'Product_name': 'Ballotin',\n",
              "  'Quantity': 90},\n",
              " '1928003': {'EXP': 'Nov:2023',\n",
              "  'MFG': 'Sep:2021',\n",
              "  'Price': 120,\n",
              "  'Product_name': 'Chocovic',\n",
              "  'Quantity': 50},\n",
              " '1928004': {'EXP': 'Dec:2023',\n",
              "  'MFG': 'Jan:2021',\n",
              "  'Price': 160,\n",
              "  'Product_name': 'Devils_Food',\n",
              "  'Quantity': 70},\n",
              " '1928005': {'EXP': 'Dec:2023',\n",
              "  'MFG': 'Feb:2021',\n",
              "  'Price': 120,\n",
              "  'Product_name': 'Enrober',\n",
              "  'Quantity': 60},\n",
              " '1928006': {'EXP': 'Jan:2022',\n",
              "  'MFG': 'Oct:2021',\n",
              "  'Price': 130,\n",
              "  'Product_name': 'Forastero',\n",
              "  'Quantity': 100},\n",
              " '1928007': {'EXP': 'Oct:2023',\n",
              "  'MFG': 'Aug:2021',\n",
              "  'Price': 100,\n",
              "  'Product_name': 'Ganache',\n",
              "  'Quantity': 80},\n",
              " '1928008': {'EXP': 'May:2024',\n",
              "  'MFG': 'Jun:2021',\n",
              "  'Price': 140,\n",
              "  'Product_name': 'Magra',\n",
              "  'Quantity': 90},\n",
              " '1928009': {'EXP': 'Nov:2023',\n",
              "  'MFG': 'Sep:2021',\n",
              "  'Price': 120,\n",
              "  'Product_name': 'Metate',\n",
              "  'Quantity': 50},\n",
              " '1928010': {'EXP': 'Dec:2023',\n",
              "  'MFG': 'Jan:2021',\n",
              "  'Price': 160,\n",
              "  'Product_name': 'Molinillo',\n",
              "  'Quantity': 70},\n",
              " '1928011': {'EXP': 'Dec:2023',\n",
              "  'MFG': 'Feb:2021',\n",
              "  'Price': 120,\n",
              "  'Product_name': 'Sugar_Bloom',\n",
              "  'Quantity': 60},\n",
              " '1928012': {'EXP': 'Jan:2022',\n",
              "  'MFG': 'Oct:2021',\n",
              "  'Price': 130,\n",
              "  'Product_name': 'Tempering',\n",
              "  'Quantity': 100},\n",
              " '1928013': {'EXP': 'Oct:2023',\n",
              "  'MFG': 'Aug:2021',\n",
              "  'Price': 100,\n",
              "  'Product_name': 'Trinitario',\n",
              "  'Quantity': 80},\n",
              " '1928014': {'EXP': 'May:2024',\n",
              "  'MFG': 'Jun:2021',\n",
              "  'Price': 140,\n",
              "  'Product_name': 'Vanillin',\n",
              "  'Quantity': 90},\n",
              " '1928015': {'EXP': 'Nov:2023',\n",
              "  'MFG': 'Sep:2021',\n",
              "  'Price': 120,\n",
              "  'Product_name': 'Winnowing',\n",
              "  'Quantity': 50},\n",
              " '1928016': {'EXP': 'Dec:2023',\n",
              "  'MFG': 'Jan:2021',\n",
              "  'Price': 160,\n",
              "  'Product_name': 'Cupuacu',\n",
              "  'Quantity': 70},\n",
              " '1928017': {'EXP': 'Dec:2023',\n",
              "  'MFG': 'Feb:2021',\n",
              "  'Price': 120,\n",
              "  'Product_name': 'Conching',\n",
              "  'Quantity': 60},\n",
              " '1928018': {'EXP': 'Jan:2022',\n",
              "  'MFG': 'Oct:2021',\n",
              "  'Price': 130,\n",
              "  'Product_name': 'Chocolatier',\n",
              "  'Quantity': 100},\n",
              " '1928019': {'EXP': 'Oct:2023',\n",
              "  'MFG': 'Aug:2021',\n",
              "  'Price': 100,\n",
              "  'Product_name': 'Bournville',\n",
              "  'Quantity': 80},\n",
              " '1928020': {'EXP': 'May:2024',\n",
              "  'MFG': 'Jun:2021',\n",
              "  'Price': 140,\n",
              "  'Product_name': 'Poppins ',\n",
              "  'Quantity': 90},\n",
              " '1928021': {'EXP': 'Nov:2023',\n",
              "  'MFG': 'Sep:2021',\n",
              "  'Price': 120,\n",
              "  'Product_name': 'Mazelo',\n",
              "  'Quantity': 50},\n",
              " '1928022': {'EXP': 'Dec:2023',\n",
              "  'MFG': 'Jan:2021',\n",
              "  'Price': 160,\n",
              "  'Product_name': 'Skittles',\n",
              "  'Quantity': 70},\n",
              " '1928023': {'EXP': 'Dec:2023',\n",
              "  'MFG': 'Feb:2021',\n",
              "  'Price': 120,\n",
              "  'Product_name': 'Snickers',\n",
              "  'Quantity': 60},\n",
              " '1928024': {'EXP': 'Jan:2022',\n",
              "  'MFG': 'Oct:2021',\n",
              "  'Price': 130,\n",
              "  'Product_name': 'Mars bar',\n",
              "  'Quantity': 100},\n",
              " '1928025': {'EXP': 'Oct:2023',\n",
              "  'MFG': 'Aug:2021',\n",
              "  'Price': 100,\n",
              "  'Product_name': 'Ferrero',\n",
              "  'Quantity': 80},\n",
              " '1928026': {'EXP': 'May:2024',\n",
              "  'MFG': 'Jun:2021',\n",
              "  'Price': 140,\n",
              "  'Product_name': 'Goldenberry',\n",
              "  'Quantity': 90},\n",
              " '1928027': {'EXP': 'Nov:2023',\n",
              "  'MFG': 'Sep:2021',\n",
              "  'Price': 120,\n",
              "  'Product_name': 'Toblerone',\n",
              "  'Quantity': 50},\n",
              " '1928028': {'EXP': 'Dec:2025',\n",
              "  'MFG': 'Jan:2021',\n",
              "  'Price': 160,\n",
              "  'Product_name': 'IntenseDark',\n",
              "  'Quantity': 70},\n",
              " '1928029': {'EXP': 'Dec:2023',\n",
              "  'MFG': 'Feb:2021',\n",
              "  'Price': 120,\n",
              "  'Product_name': 'Lindt',\n",
              "  'Quantity': 60},\n",
              " '1928030': {'EXP': 'Jan:2022',\n",
              "  'MFG': 'Oct:2021',\n",
              "  'Price': 130,\n",
              "  'Product_name': 'Fabelle',\n",
              "  'Quantity': 100},\n",
              " '1928031': {'EXP': 'Sep:2024',\n",
              "  'MFG': 'sep:2021',\n",
              "  'Price': 345,\n",
              "  'Product_name': 'asd',\n",
              "  'Quantity': 23}}"
            ]
          },
          "metadata": {},
          "execution_count": 5
        }
      ]
    },
    {
      "cell_type": "markdown",
      "metadata": {
        "id": "Oc2ckCw_aM9c"
      },
      "source": [
        "**REMOVAL of EXPIRED Item**"
      ]
    },
    {
      "cell_type": "code",
      "metadata": {
        "id": "w-WWd0-Bbaag",
        "colab": {
          "base_uri": "https://localhost:8080/"
        },
        "outputId": "71233a94-18fe-4c33-a9a9-fffbe4dcb8ec"
      },
      "source": [
        "import time\n",
        "rec = time.ctime().split(' ')    #Current Date\n",
        "today_date= [rec[1],rec[5]]      #Formate correction a\\c to data\n",
        "\n",
        "for i in record.copy():          # if product is expired, then remove from Inventory\n",
        "    exp_date=record[i]['EXP'].split(':')\n",
        "    if exp_date==today_date:\n",
        "           print(\"Product\",i,\"has been expired so removing the product\")\n",
        "           record.pop(i)\n",
        "\n",
        "print(\"Remaing Products are Ready to USE  (not Expired)\")\n",
        "           \n"
      ],
      "execution_count": null,
      "outputs": [
        {
          "output_type": "stream",
          "name": "stdout",
          "text": [
            "Product 1928040 has been expired so removing the product\n",
            "Remaing Products are Ready to USE  (not Expired)\n"
          ]
        }
      ]
    },
    {
      "cell_type": "markdown",
      "metadata": {
        "id": "WrouUk-FieHb"
      },
      "source": [
        "**REMOVAL of Item**"
      ]
    },
    {
      "cell_type": "code",
      "metadata": {
        "colab": {
          "base_uri": "https://localhost:8080/"
        },
        "id": "dgm3sM4vimKJ",
        "outputId": "2656c869-fcc6-49ce-e9e9-4fb30b9d917d"
      },
      "source": [
        "#if seller want to REMOVE an item from Inventory\n",
        "\n",
        "prod_id = (input(\"Enter the ID of Product to Remove :\"))\n",
        "print(\"Item Removed from Record\")\n",
        "\n",
        "record.pop(prod_id)\n",
        " \n"
      ],
      "execution_count": 6,
      "outputs": [
        {
          "output_type": "stream",
          "name": "stdout",
          "text": [
            "Enter the ID of Product to Remove :1928031\n",
            "Item Removed from Record\n"
          ]
        },
        {
          "output_type": "execute_result",
          "data": {
            "text/plain": [
              "{'EXP': 'Sep:2024',\n",
              " 'MFG': 'sep:2021',\n",
              " 'Price': 345,\n",
              " 'Product_name': 'asd',\n",
              " 'Quantity': 23}"
            ]
          },
          "metadata": {},
          "execution_count": 6
        }
      ]
    },
    {
      "cell_type": "code",
      "metadata": {
        "colab": {
          "base_uri": "https://localhost:8080/"
        },
        "id": "bOW6sxuuj-Ru",
        "outputId": "ce551567-8c84-4ab6-db8c-9769a2fcd343"
      },
      "source": [
        "record                # Displaying the Inventory after Removal"
      ],
      "execution_count": 7,
      "outputs": [
        {
          "output_type": "execute_result",
          "data": {
            "text/plain": [
              "{'1928001': {'EXP': 'Oct:2023',\n",
              "  'MFG': 'Aug:2021',\n",
              "  'Price': 100,\n",
              "  'Product_name': 'Amenolado',\n",
              "  'Quantity': 80},\n",
              " '1928002': {'EXP': 'May:2024',\n",
              "  'MFG': 'Jun:2021',\n",
              "  'Price': 140,\n",
              "  'Product_name': 'Ballotin',\n",
              "  'Quantity': 90},\n",
              " '1928003': {'EXP': 'Nov:2023',\n",
              "  'MFG': 'Sep:2021',\n",
              "  'Price': 120,\n",
              "  'Product_name': 'Chocovic',\n",
              "  'Quantity': 50},\n",
              " '1928004': {'EXP': 'Dec:2023',\n",
              "  'MFG': 'Jan:2021',\n",
              "  'Price': 160,\n",
              "  'Product_name': 'Devils_Food',\n",
              "  'Quantity': 70},\n",
              " '1928005': {'EXP': 'Dec:2023',\n",
              "  'MFG': 'Feb:2021',\n",
              "  'Price': 120,\n",
              "  'Product_name': 'Enrober',\n",
              "  'Quantity': 60},\n",
              " '1928006': {'EXP': 'Jan:2022',\n",
              "  'MFG': 'Oct:2021',\n",
              "  'Price': 130,\n",
              "  'Product_name': 'Forastero',\n",
              "  'Quantity': 100},\n",
              " '1928007': {'EXP': 'Oct:2023',\n",
              "  'MFG': 'Aug:2021',\n",
              "  'Price': 100,\n",
              "  'Product_name': 'Ganache',\n",
              "  'Quantity': 80},\n",
              " '1928008': {'EXP': 'May:2024',\n",
              "  'MFG': 'Jun:2021',\n",
              "  'Price': 140,\n",
              "  'Product_name': 'Magra',\n",
              "  'Quantity': 90},\n",
              " '1928009': {'EXP': 'Nov:2023',\n",
              "  'MFG': 'Sep:2021',\n",
              "  'Price': 120,\n",
              "  'Product_name': 'Metate',\n",
              "  'Quantity': 50},\n",
              " '1928010': {'EXP': 'Dec:2023',\n",
              "  'MFG': 'Jan:2021',\n",
              "  'Price': 160,\n",
              "  'Product_name': 'Molinillo',\n",
              "  'Quantity': 70},\n",
              " '1928011': {'EXP': 'Dec:2023',\n",
              "  'MFG': 'Feb:2021',\n",
              "  'Price': 120,\n",
              "  'Product_name': 'Sugar_Bloom',\n",
              "  'Quantity': 60},\n",
              " '1928012': {'EXP': 'Jan:2022',\n",
              "  'MFG': 'Oct:2021',\n",
              "  'Price': 130,\n",
              "  'Product_name': 'Tempering',\n",
              "  'Quantity': 100},\n",
              " '1928013': {'EXP': 'Oct:2023',\n",
              "  'MFG': 'Aug:2021',\n",
              "  'Price': 100,\n",
              "  'Product_name': 'Trinitario',\n",
              "  'Quantity': 80},\n",
              " '1928014': {'EXP': 'May:2024',\n",
              "  'MFG': 'Jun:2021',\n",
              "  'Price': 140,\n",
              "  'Product_name': 'Vanillin',\n",
              "  'Quantity': 90},\n",
              " '1928015': {'EXP': 'Nov:2023',\n",
              "  'MFG': 'Sep:2021',\n",
              "  'Price': 120,\n",
              "  'Product_name': 'Winnowing',\n",
              "  'Quantity': 50},\n",
              " '1928016': {'EXP': 'Dec:2023',\n",
              "  'MFG': 'Jan:2021',\n",
              "  'Price': 160,\n",
              "  'Product_name': 'Cupuacu',\n",
              "  'Quantity': 70},\n",
              " '1928017': {'EXP': 'Dec:2023',\n",
              "  'MFG': 'Feb:2021',\n",
              "  'Price': 120,\n",
              "  'Product_name': 'Conching',\n",
              "  'Quantity': 60},\n",
              " '1928018': {'EXP': 'Jan:2022',\n",
              "  'MFG': 'Oct:2021',\n",
              "  'Price': 130,\n",
              "  'Product_name': 'Chocolatier',\n",
              "  'Quantity': 100},\n",
              " '1928019': {'EXP': 'Oct:2023',\n",
              "  'MFG': 'Aug:2021',\n",
              "  'Price': 100,\n",
              "  'Product_name': 'Bournville',\n",
              "  'Quantity': 80},\n",
              " '1928020': {'EXP': 'May:2024',\n",
              "  'MFG': 'Jun:2021',\n",
              "  'Price': 140,\n",
              "  'Product_name': 'Poppins ',\n",
              "  'Quantity': 90},\n",
              " '1928021': {'EXP': 'Nov:2023',\n",
              "  'MFG': 'Sep:2021',\n",
              "  'Price': 120,\n",
              "  'Product_name': 'Mazelo',\n",
              "  'Quantity': 50},\n",
              " '1928022': {'EXP': 'Dec:2023',\n",
              "  'MFG': 'Jan:2021',\n",
              "  'Price': 160,\n",
              "  'Product_name': 'Skittles',\n",
              "  'Quantity': 70},\n",
              " '1928023': {'EXP': 'Dec:2023',\n",
              "  'MFG': 'Feb:2021',\n",
              "  'Price': 120,\n",
              "  'Product_name': 'Snickers',\n",
              "  'Quantity': 60},\n",
              " '1928024': {'EXP': 'Jan:2022',\n",
              "  'MFG': 'Oct:2021',\n",
              "  'Price': 130,\n",
              "  'Product_name': 'Mars bar',\n",
              "  'Quantity': 100},\n",
              " '1928025': {'EXP': 'Oct:2023',\n",
              "  'MFG': 'Aug:2021',\n",
              "  'Price': 100,\n",
              "  'Product_name': 'Ferrero',\n",
              "  'Quantity': 80},\n",
              " '1928026': {'EXP': 'May:2024',\n",
              "  'MFG': 'Jun:2021',\n",
              "  'Price': 140,\n",
              "  'Product_name': 'Goldenberry',\n",
              "  'Quantity': 90},\n",
              " '1928027': {'EXP': 'Nov:2023',\n",
              "  'MFG': 'Sep:2021',\n",
              "  'Price': 120,\n",
              "  'Product_name': 'Toblerone',\n",
              "  'Quantity': 50},\n",
              " '1928028': {'EXP': 'Dec:2025',\n",
              "  'MFG': 'Jan:2021',\n",
              "  'Price': 160,\n",
              "  'Product_name': 'IntenseDark',\n",
              "  'Quantity': 70},\n",
              " '1928029': {'EXP': 'Dec:2023',\n",
              "  'MFG': 'Feb:2021',\n",
              "  'Price': 120,\n",
              "  'Product_name': 'Lindt',\n",
              "  'Quantity': 60},\n",
              " '1928030': {'EXP': 'Jan:2022',\n",
              "  'MFG': 'Oct:2021',\n",
              "  'Price': 130,\n",
              "  'Product_name': 'Fabelle',\n",
              "  'Quantity': 100}}"
            ]
          },
          "metadata": {},
          "execution_count": 7
        }
      ]
    },
    {
      "cell_type": "markdown",
      "metadata": {
        "id": "6liRdjP3nONE"
      },
      "source": [
        "**UPDATING Inventory after Adding New Item and Removal**"
      ]
    },
    {
      "cell_type": "code",
      "metadata": {
        "id": "JjPU39IehNVl"
      },
      "source": [
        "js = json.dumps(record)\n",
        "\n",
        "fd = open(\"record.json\",'w')\n",
        "fd.write(js)\n",
        "fd.close()"
      ],
      "execution_count": null,
      "outputs": []
    }
  ]
}