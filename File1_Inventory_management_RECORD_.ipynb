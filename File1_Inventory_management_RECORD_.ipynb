{
  "nbformat": 4,
  "nbformat_minor": 0,
  "metadata": {
    "colab": {
      "name": "File1:Inventory management RECORD .ipynb",
      "provenance": []
    },
    "kernelspec": {
      "name": "python3",
      "display_name": "Python 3"
    },
    "language_info": {
      "name": "python"
    }
  },
  "cells": [
    {
      "cell_type": "markdown",
      "metadata": {
        "id": "0MNnjUU6QFfF"
      },
      "source": [
        "**INVENTORY MANAGEMENT RECORDS**"
      ]
    },
    {
      "cell_type": "code",
      "metadata": {
        "id": "YE2gCOCFQ_Fc"
      },
      "source": [
        "record ={1928001 :{\"Product_name\": \"Amenolado\"  , \"Price\": 100 , \"Quantity\": 80  , \"MFG\" : \"Aug:2021\" , \"EXP\" : \"Oct:2023\"},\n",
        "         1928002 :{\"Product_name\": \"Ballotin\"   , \"Price\": 140 , \"Quantity\": 90  , \"MFG\" : \"Jun:2021\" , \"EXP\" : \"May:2024\"},\n",
        "         1928003 :{\"Product_name\": \"Chocovic\"   , \"Price\": 120 , \"Quantity\": 50  , \"MFG\" : \"Sep:2021\" , \"EXP\" : \"Nov:2023\"},\n",
        "         1928004 :{\"Product_name\": \"Devils_Food\", \"Price\": 160 , \"Quantity\": 70  , \"MFG\" : \"Jan:2021\" , \"EXP\" : \"Dec:2023\"},\n",
        "         1928005 :{\"Product_name\": \"Enrober\"    , \"Price\": 120 , \"Quantity\": 60  , \"MFG\" : \"Feb:2021\" , \"EXP\" : \"Dec:2023\"},\n",
        "         1928005 :{\"Product_name\": \"Enrober\"    , \"Price\": 120 , \"Quantity\": 60  , \"MFG\" : \"Feb:2021\" , \"EXP\" : \"Dec:2023\"},\n",
        "         1928006 :{\"Product_name\": \"Forastero\"  , \"Price\": 130 , \"Quantity\": 100 , \"MFG\" : \"Oct:2021\" , \"EXP\" : \"Jan:2022\"},\n",
        "         1928007 :{\"Product_name\": \"Ganache\"    , \"Price\": 100 , \"Quantity\": 80  , \"MFG\" : \"Aug:2021\" , \"EXP\" : \"Oct:2023\"},\n",
        "         1928008 :{\"Product_name\": \"Magra\"      , \"Price\": 140 , \"Quantity\": 90  , \"MFG\" : \"Jun:2021\" , \"EXP\" : \"May:2024\"},\n",
        "         1928009 :{\"Product_name\": \"Metate\"     , \"Price\": 120 , \"Quantity\": 50  , \"MFG\" : \"Sep:2021\" , \"EXP\" : \"Nov:2023\"},\n",
        "         1928010 :{\"Product_name\": \"Molinillo\"  , \"Price\": 160 , \"Quantity\": 70  , \"MFG\" : \"Jan:2021\" , \"EXP\" : \"Dec:2023\"},\n",
        "         1928011 :{\"Product_name\": \"Sugar_Bloom\", \"Price\": 120 , \"Quantity\": 60  , \"MFG\" : \"Feb:2021\" , \"EXP\" : \"Dec:2023\"},\n",
        "         1928012 :{\"Product_name\": \"Tempering\"  , \"Price\": 130 , \"Quantity\": 100 , \"MFG\" : \"Oct:2021\" , \"EXP\" : \"Jan:2022\"},\n",
        "         1928013 :{\"Product_name\": \"Trinitario\" , \"Price\": 100 , \"Quantity\": 80  , \"MFG\" : \"Aug:2021\" , \"EXP\" : \"Oct:2023\"},\n",
        "         1928014 :{\"Product_name\": \"Vanillin\"   , \"Price\": 140 , \"Quantity\": 90  , \"MFG\" : \"Jun:2021\",  \"EXP\" : \"May:2024\"},\n",
        "         1928015 :{\"Product_name\": \"Winnowing\"  , \"Price\": 120 , \"Quantity\": 50  , \"MFG\" : \"Sep:2021\" , \"EXP\" : \"Nov:2023\"},\n",
        "         1928016 :{\"Product_name\": \"Cupuacu\"    , \"Price\": 160 , \"Quantity\": 70  , \"MFG\" : \"Jan:2021\" , \"EXP\" : \"Dec:2023\"},\n",
        "         1928017 :{\"Product_name\": \"Conching\"   , \"Price\": 120 , \"Quantity\": 60  , \"MFG\" : \"Feb:2021\" , \"EXP\" : \"Dec:2023\"},\n",
        "         1928018 :{\"Product_name\": \"Chocolatier\", \"Price\": 130 , \"Quantity\": 100 , \"MFG\" : \"Oct:2021\" , \"EXP\" : \"Jan:2022\"},\n",
        "         1928019 :{\"Product_name\": \"Bournville\" , \"Price\": 100 , \"Quantity\": 80  , \"MFG\" : \"Aug:2021\" , \"EXP\" : \"Oct:2023\"},\n",
        "         1928020 :{\"Product_name\": \"Poppins \"   , \"Price\": 140 , \"Quantity\": 90  , \"MFG\" : \"Jun:2021\" , \"EXP\" : \"May:2024\"},\n",
        "         1928021 :{\"Product_name\": \"Mazelo\"     , \"Price\": 120 , \"Quantity\": 50  , \"MFG\" : \"Sep:2021\" , \"EXP\" : \"Nov:2023\"},\n",
        "         1928022 :{\"Product_name\": \"Skittles\"   , \"Price\": 160 , \"Quantity\": 70  , \"MFG\" : \"Jan:2021\" , \"EXP\" : \"Dec:2023\"},\n",
        "         1928023 :{\"Product_name\": \"Snickers\"   , \"Price\": 120 , \"Quantity\": 60  , \"MFG\" : \"Feb:2021\" , \"EXP\" : \"Dec:2023\"},\n",
        "         1928024 :{\"Product_name\": \"Mars bar\"   , \"Price\": 130 , \"Quantity\": 100 , \"MFG\" : \"Oct:2021\" , \"EXP\" : \"Jan:2022\"},\n",
        "         1928025 :{\"Product_name\": \"Ferrero\"    , \"Price\": 100 , \"Quantity\": 80  , \"MFG\" : \"Aug:2021\" , \"EXP\" : \"Oct:2023\"},\n",
        "         1928026 :{\"Product_name\": \"Goldenberry\", \"Price\": 140 , \"Quantity\": 90  , \"MFG\" : \"Jun:2021\" , \"EXP\" : \"May:2024\"},\n",
        "         1928027 :{\"Product_name\": \"Toblerone\"  , \"Price\": 120 , \"Quantity\": 50  , \"MFG\" : \"Sep:2021\" , \"EXP\" : \"Nov:2023\"},\n",
        "         1928028 :{\"Product_name\": \"IntenseDark\", \"Price\": 160 , \"Quantity\": 70  , \"MFG\" : \"Jan:2021\" , \"EXP\" : \"Dec:2025\"},\n",
        "         1928029 :{\"Product_name\": \"Lindt\"      , \"Price\": 120 , \"Quantity\": 60  , \"MFG\" : \"Feb:2021\" , \"EXP\" : \"Dec:2023\"},\n",
        "         1928030 :{\"Product_name\": \"Fabelle\"    , \"Price\": 130 , \"Quantity\": 100 , \"MFG\" : \"Oct:2021\" , \"EXP\" : \"Jan:2022\"}}\n",
        "        "
      ],
      "execution_count": 1,
      "outputs": []
    },
    {
      "cell_type": "code",
      "metadata": {
        "colab": {
          "base_uri": "https://localhost:8080/"
        },
        "id": "jIgnfwffQVQ4",
        "outputId": "c8bb694a-82bb-4fd7-d4b6-fd79694fdd4c"
      },
      "source": [
        "record                              #printing the record list"
      ],
      "execution_count": 2,
      "outputs": [
        {
          "output_type": "execute_result",
          "data": {
            "text/plain": [
              "{1928001: {'EXP': 'Oct:2023',\n",
              "  'MFG': 'Aug:2021',\n",
              "  'Price': 100,\n",
              "  'Product_name': 'Amenolado',\n",
              "  'Quantity': 80},\n",
              " 1928002: {'EXP': 'May:2024',\n",
              "  'MFG': 'Jun:2021',\n",
              "  'Price': 140,\n",
              "  'Product_name': 'Ballotin',\n",
              "  'Quantity': 90},\n",
              " 1928003: {'EXP': 'Nov:2023',\n",
              "  'MFG': 'Sep:2021',\n",
              "  'Price': 120,\n",
              "  'Product_name': 'Chocovic',\n",
              "  'Quantity': 50},\n",
              " 1928004: {'EXP': 'Dec:2023',\n",
              "  'MFG': 'Jan:2021',\n",
              "  'Price': 160,\n",
              "  'Product_name': 'Devils_Food',\n",
              "  'Quantity': 70},\n",
              " 1928005: {'EXP': 'Dec:2023',\n",
              "  'MFG': 'Feb:2021',\n",
              "  'Price': 120,\n",
              "  'Product_name': 'Enrober',\n",
              "  'Quantity': 60},\n",
              " 1928006: {'EXP': 'Jan:2022',\n",
              "  'MFG': 'Oct:2021',\n",
              "  'Price': 130,\n",
              "  'Product_name': 'Forastero',\n",
              "  'Quantity': 100},\n",
              " 1928007: {'EXP': 'Oct:2023',\n",
              "  'MFG': 'Aug:2021',\n",
              "  'Price': 100,\n",
              "  'Product_name': 'Ganache',\n",
              "  'Quantity': 80},\n",
              " 1928008: {'EXP': 'May:2024',\n",
              "  'MFG': 'Jun:2021',\n",
              "  'Price': 140,\n",
              "  'Product_name': 'Magra',\n",
              "  'Quantity': 90},\n",
              " 1928009: {'EXP': 'Nov:2023',\n",
              "  'MFG': 'Sep:2021',\n",
              "  'Price': 120,\n",
              "  'Product_name': 'Metate',\n",
              "  'Quantity': 50},\n",
              " 1928010: {'EXP': 'Dec:2023',\n",
              "  'MFG': 'Jan:2021',\n",
              "  'Price': 160,\n",
              "  'Product_name': 'Molinillo',\n",
              "  'Quantity': 70},\n",
              " 1928011: {'EXP': 'Dec:2023',\n",
              "  'MFG': 'Feb:2021',\n",
              "  'Price': 120,\n",
              "  'Product_name': 'Sugar_Bloom',\n",
              "  'Quantity': 60},\n",
              " 1928012: {'EXP': 'Jan:2022',\n",
              "  'MFG': 'Oct:2021',\n",
              "  'Price': 130,\n",
              "  'Product_name': 'Tempering',\n",
              "  'Quantity': 100},\n",
              " 1928013: {'EXP': 'Oct:2023',\n",
              "  'MFG': 'Aug:2021',\n",
              "  'Price': 100,\n",
              "  'Product_name': 'Trinitario',\n",
              "  'Quantity': 80},\n",
              " 1928014: {'EXP': 'May:2024',\n",
              "  'MFG': 'Jun:2021',\n",
              "  'Price': 140,\n",
              "  'Product_name': 'Vanillin',\n",
              "  'Quantity': 90},\n",
              " 1928015: {'EXP': 'Nov:2023',\n",
              "  'MFG': 'Sep:2021',\n",
              "  'Price': 120,\n",
              "  'Product_name': 'Winnowing',\n",
              "  'Quantity': 50},\n",
              " 1928016: {'EXP': 'Dec:2023',\n",
              "  'MFG': 'Jan:2021',\n",
              "  'Price': 160,\n",
              "  'Product_name': 'Cupuacu',\n",
              "  'Quantity': 70},\n",
              " 1928017: {'EXP': 'Dec:2023',\n",
              "  'MFG': 'Feb:2021',\n",
              "  'Price': 120,\n",
              "  'Product_name': 'Conching',\n",
              "  'Quantity': 60},\n",
              " 1928018: {'EXP': 'Jan:2022',\n",
              "  'MFG': 'Oct:2021',\n",
              "  'Price': 130,\n",
              "  'Product_name': 'Chocolatier',\n",
              "  'Quantity': 100},\n",
              " 1928019: {'EXP': 'Oct:2023',\n",
              "  'MFG': 'Aug:2021',\n",
              "  'Price': 100,\n",
              "  'Product_name': 'Bournville',\n",
              "  'Quantity': 80},\n",
              " 1928020: {'EXP': 'May:2024',\n",
              "  'MFG': 'Jun:2021',\n",
              "  'Price': 140,\n",
              "  'Product_name': 'Poppins ',\n",
              "  'Quantity': 90},\n",
              " 1928021: {'EXP': 'Nov:2023',\n",
              "  'MFG': 'Sep:2021',\n",
              "  'Price': 120,\n",
              "  'Product_name': 'Mazelo',\n",
              "  'Quantity': 50},\n",
              " 1928022: {'EXP': 'Dec:2023',\n",
              "  'MFG': 'Jan:2021',\n",
              "  'Price': 160,\n",
              "  'Product_name': 'Skittles',\n",
              "  'Quantity': 70},\n",
              " 1928023: {'EXP': 'Dec:2023',\n",
              "  'MFG': 'Feb:2021',\n",
              "  'Price': 120,\n",
              "  'Product_name': 'Snickers',\n",
              "  'Quantity': 60},\n",
              " 1928024: {'EXP': 'Jan:2022',\n",
              "  'MFG': 'Oct:2021',\n",
              "  'Price': 130,\n",
              "  'Product_name': 'Mars bar',\n",
              "  'Quantity': 100},\n",
              " 1928025: {'EXP': 'Oct:2023',\n",
              "  'MFG': 'Aug:2021',\n",
              "  'Price': 100,\n",
              "  'Product_name': 'Ferrero',\n",
              "  'Quantity': 80},\n",
              " 1928026: {'EXP': 'May:2024',\n",
              "  'MFG': 'Jun:2021',\n",
              "  'Price': 140,\n",
              "  'Product_name': 'Goldenberry',\n",
              "  'Quantity': 90},\n",
              " 1928027: {'EXP': 'Nov:2023',\n",
              "  'MFG': 'Sep:2021',\n",
              "  'Price': 120,\n",
              "  'Product_name': 'Toblerone',\n",
              "  'Quantity': 50},\n",
              " 1928028: {'EXP': 'Dec:2025',\n",
              "  'MFG': 'Jan:2021',\n",
              "  'Price': 160,\n",
              "  'Product_name': 'IntenseDark',\n",
              "  'Quantity': 70},\n",
              " 1928029: {'EXP': 'Dec:2023',\n",
              "  'MFG': 'Feb:2021',\n",
              "  'Price': 120,\n",
              "  'Product_name': 'Lindt',\n",
              "  'Quantity': 60},\n",
              " 1928030: {'EXP': 'Jan:2022',\n",
              "  'MFG': 'Oct:2021',\n",
              "  'Price': 130,\n",
              "  'Product_name': 'Fabelle',\n",
              "  'Quantity': 100}}"
            ]
          },
          "metadata": {},
          "execution_count": 2
        }
      ]
    },
    {
      "cell_type": "markdown",
      "metadata": {
        "id": "r0iyCJ-tQwbL"
      },
      "source": [
        "JSON"
      ]
    },
    {
      "cell_type": "code",
      "metadata": {
        "id": "CcWGDZDbWRUf"
      },
      "source": [
        "import json"
      ],
      "execution_count": 3,
      "outputs": []
    },
    {
      "cell_type": "code",
      "metadata": {
        "id": "lK7_IN4iWqJv"
      },
      "source": [
        "js= json.dumps(record)\n"
      ],
      "execution_count": 4,
      "outputs": []
    },
    {
      "cell_type": "code",
      "metadata": {
        "colab": {
          "base_uri": "https://localhost:8080/",
          "height": 191
        },
        "id": "LJZlRpfOWql6",
        "outputId": "98650fad-773d-4a27-fa1e-9701fcf71b30"
      },
      "source": [
        "js"
      ],
      "execution_count": 5,
      "outputs": [
        {
          "output_type": "execute_result",
          "data": {
            "application/vnd.google.colaboratory.intrinsic+json": {
              "type": "string"
            },
            "text/plain": [
              "'{\"1928001\": {\"Product_name\": \"Amenolado\", \"Price\": 100, \"Quantity\": 80, \"MFG\": \"Aug:2021\", \"EXP\": \"Oct:2023\"}, \"1928002\": {\"Product_name\": \"Ballotin\", \"Price\": 140, \"Quantity\": 90, \"MFG\": \"Jun:2021\", \"EXP\": \"May:2024\"}, \"1928003\": {\"Product_name\": \"Chocovic\", \"Price\": 120, \"Quantity\": 50, \"MFG\": \"Sep:2021\", \"EXP\": \"Nov:2023\"}, \"1928004\": {\"Product_name\": \"Devils_Food\", \"Price\": 160, \"Quantity\": 70, \"MFG\": \"Jan:2021\", \"EXP\": \"Dec:2023\"}, \"1928005\": {\"Product_name\": \"Enrober\", \"Price\": 120, \"Quantity\": 60, \"MFG\": \"Feb:2021\", \"EXP\": \"Dec:2023\"}, \"1928006\": {\"Product_name\": \"Forastero\", \"Price\": 130, \"Quantity\": 100, \"MFG\": \"Oct:2021\", \"EXP\": \"Jan:2022\"}, \"1928007\": {\"Product_name\": \"Ganache\", \"Price\": 100, \"Quantity\": 80, \"MFG\": \"Aug:2021\", \"EXP\": \"Oct:2023\"}, \"1928008\": {\"Product_name\": \"Magra\", \"Price\": 140, \"Quantity\": 90, \"MFG\": \"Jun:2021\", \"EXP\": \"May:2024\"}, \"1928009\": {\"Product_name\": \"Metate\", \"Price\": 120, \"Quantity\": 50, \"MFG\": \"Sep:2021\", \"EXP\": \"Nov:2023\"}, \"1928010\": {\"Product_name\": \"Molinillo\", \"Price\": 160, \"Quantity\": 70, \"MFG\": \"Jan:2021\", \"EXP\": \"Dec:2023\"}, \"1928011\": {\"Product_name\": \"Sugar_Bloom\", \"Price\": 120, \"Quantity\": 60, \"MFG\": \"Feb:2021\", \"EXP\": \"Dec:2023\"}, \"1928012\": {\"Product_name\": \"Tempering\", \"Price\": 130, \"Quantity\": 100, \"MFG\": \"Oct:2021\", \"EXP\": \"Jan:2022\"}, \"1928013\": {\"Product_name\": \"Trinitario\", \"Price\": 100, \"Quantity\": 80, \"MFG\": \"Aug:2021\", \"EXP\": \"Oct:2023\"}, \"1928014\": {\"Product_name\": \"Vanillin\", \"Price\": 140, \"Quantity\": 90, \"MFG\": \"Jun:2021\", \"EXP\": \"May:2024\"}, \"1928015\": {\"Product_name\": \"Winnowing\", \"Price\": 120, \"Quantity\": 50, \"MFG\": \"Sep:2021\", \"EXP\": \"Nov:2023\"}, \"1928016\": {\"Product_name\": \"Cupuacu\", \"Price\": 160, \"Quantity\": 70, \"MFG\": \"Jan:2021\", \"EXP\": \"Dec:2023\"}, \"1928017\": {\"Product_name\": \"Conching\", \"Price\": 120, \"Quantity\": 60, \"MFG\": \"Feb:2021\", \"EXP\": \"Dec:2023\"}, \"1928018\": {\"Product_name\": \"Chocolatier\", \"Price\": 130, \"Quantity\": 100, \"MFG\": \"Oct:2021\", \"EXP\": \"Jan:2022\"}, \"1928019\": {\"Product_name\": \"Bournville\", \"Price\": 100, \"Quantity\": 80, \"MFG\": \"Aug:2021\", \"EXP\": \"Oct:2023\"}, \"1928020\": {\"Product_name\": \"Poppins \", \"Price\": 140, \"Quantity\": 90, \"MFG\": \"Jun:2021\", \"EXP\": \"May:2024\"}, \"1928021\": {\"Product_name\": \"Mazelo\", \"Price\": 120, \"Quantity\": 50, \"MFG\": \"Sep:2021\", \"EXP\": \"Nov:2023\"}, \"1928022\": {\"Product_name\": \"Skittles\", \"Price\": 160, \"Quantity\": 70, \"MFG\": \"Jan:2021\", \"EXP\": \"Dec:2023\"}, \"1928023\": {\"Product_name\": \"Snickers\", \"Price\": 120, \"Quantity\": 60, \"MFG\": \"Feb:2021\", \"EXP\": \"Dec:2023\"}, \"1928024\": {\"Product_name\": \"Mars bar\", \"Price\": 130, \"Quantity\": 100, \"MFG\": \"Oct:2021\", \"EXP\": \"Jan:2022\"}, \"1928025\": {\"Product_name\": \"Ferrero\", \"Price\": 100, \"Quantity\": 80, \"MFG\": \"Aug:2021\", \"EXP\": \"Oct:2023\"}, \"1928026\": {\"Product_name\": \"Goldenberry\", \"Price\": 140, \"Quantity\": 90, \"MFG\": \"Jun:2021\", \"EXP\": \"May:2024\"}, \"1928027\": {\"Product_name\": \"Toblerone\", \"Price\": 120, \"Quantity\": 50, \"MFG\": \"Sep:2021\", \"EXP\": \"Nov:2023\"}, \"1928028\": {\"Product_name\": \"IntenseDark\", \"Price\": 160, \"Quantity\": 70, \"MFG\": \"Jan:2021\", \"EXP\": \"Dec:2025\"}, \"1928029\": {\"Product_name\": \"Lindt\", \"Price\": 120, \"Quantity\": 60, \"MFG\": \"Feb:2021\", \"EXP\": \"Dec:2023\"}, \"1928030\": {\"Product_name\": \"Fabelle\", \"Price\": 130, \"Quantity\": 100, \"MFG\": \"Oct:2021\", \"EXP\": \"Jan:2022\"}}'"
            ]
          },
          "metadata": {},
          "execution_count": 5
        }
      ]
    },
    {
      "cell_type": "code",
      "metadata": {
        "id": "AFefOme7Wqxx"
      },
      "source": [
        "fd=open(\"record.json\",'w')\n",
        "fd.write(js)\n",
        "fd.close()"
      ],
      "execution_count": 6,
      "outputs": []
    }
  ]
}