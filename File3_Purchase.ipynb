{
  "nbformat": 4,
  "nbformat_minor": 0,
  "metadata": {
    "colab": {
      "name": "File3:Purchase.ipynb",
      "provenance": []
    },
    "kernelspec": {
      "name": "python3",
      "display_name": "Python 3"
    },
    "language_info": {
      "name": "python"
    }
  },
  "cells": [
    {
      "cell_type": "markdown",
      "metadata": {
        "id": "jX-WVVGZoMsw"
      },
      "source": [
        "**Read Inventory**"
      ]
    },
    {
      "cell_type": "code",
      "metadata": {
        "id": "NJFb3mSloPxb"
      },
      "source": [
        "import json\n",
        "\n",
        "fd = open(\"record.json\",'r')\n",
        "r = fd.read()\n",
        "fd.close()\n",
        "\n",
        "record = json.loads(r)"
      ],
      "execution_count": 1,
      "outputs": []
    },
    {
      "cell_type": "code",
      "metadata": {
        "colab": {
          "base_uri": "https://localhost:8080/"
        },
        "id": "PZ1Z7nwLoV4T",
        "outputId": "da4384a2-0c2a-4ff0-c40f-69b78d0018fd"
      },
      "source": [
        "record                     #Displaying the Inventory"
      ],
      "execution_count": 2,
      "outputs": [
        {
          "output_type": "execute_result",
          "data": {
            "text/plain": [
              "{'1928001': {'EXP': 'Oct:2023',\n",
              "  'MFG': 'Aug:2021',\n",
              "  'Price': 100,\n",
              "  'Product_name': 'Amenolado',\n",
              "  'Quantity': 80},\n",
              " '1928002': {'EXP': 'May:2024',\n",
              "  'MFG': 'Jun:2021',\n",
              "  'Price': 140,\n",
              "  'Product_name': 'Ballotin',\n",
              "  'Quantity': 90},\n",
              " '1928003': {'EXP': 'Nov:2023',\n",
              "  'MFG': 'Sep:2021',\n",
              "  'Price': 120,\n",
              "  'Product_name': 'Chocovic',\n",
              "  'Quantity': 50},\n",
              " '1928004': {'EXP': 'Dec:2023',\n",
              "  'MFG': 'Jan:2021',\n",
              "  'Price': 160,\n",
              "  'Product_name': 'Devils_Food',\n",
              "  'Quantity': 70},\n",
              " '1928005': {'EXP': 'Dec:2023',\n",
              "  'MFG': 'Feb:2021',\n",
              "  'Price': 120,\n",
              "  'Product_name': 'Enrober',\n",
              "  'Quantity': 60},\n",
              " '1928006': {'EXP': 'Jan:2022',\n",
              "  'MFG': 'Oct:2021',\n",
              "  'Price': 130,\n",
              "  'Product_name': 'Forastero',\n",
              "  'Quantity': 100},\n",
              " '1928007': {'EXP': 'Oct:2023',\n",
              "  'MFG': 'Aug:2021',\n",
              "  'Price': 100,\n",
              "  'Product_name': 'Ganache',\n",
              "  'Quantity': 80},\n",
              " '1928008': {'EXP': 'May:2024',\n",
              "  'MFG': 'Jun:2021',\n",
              "  'Price': 140,\n",
              "  'Product_name': 'Magra',\n",
              "  'Quantity': 90},\n",
              " '1928009': {'EXP': 'Nov:2023',\n",
              "  'MFG': 'Sep:2021',\n",
              "  'Price': 120,\n",
              "  'Product_name': 'Metate',\n",
              "  'Quantity': 50},\n",
              " '1928010': {'EXP': 'Dec:2023',\n",
              "  'MFG': 'Jan:2021',\n",
              "  'Price': 160,\n",
              "  'Product_name': 'Molinillo',\n",
              "  'Quantity': 70},\n",
              " '1928011': {'EXP': 'Dec:2023',\n",
              "  'MFG': 'Feb:2021',\n",
              "  'Price': 120,\n",
              "  'Product_name': 'Sugar_Bloom',\n",
              "  'Quantity': 60},\n",
              " '1928012': {'EXP': 'Jan:2022',\n",
              "  'MFG': 'Oct:2021',\n",
              "  'Price': 130,\n",
              "  'Product_name': 'Tempering',\n",
              "  'Quantity': 100},\n",
              " '1928013': {'EXP': 'Oct:2023',\n",
              "  'MFG': 'Aug:2021',\n",
              "  'Price': 100,\n",
              "  'Product_name': 'Trinitario',\n",
              "  'Quantity': 80},\n",
              " '1928014': {'EXP': 'May:2024',\n",
              "  'MFG': 'Jun:2021',\n",
              "  'Price': 140,\n",
              "  'Product_name': 'Vanillin',\n",
              "  'Quantity': 90},\n",
              " '1928015': {'EXP': 'Nov:2023',\n",
              "  'MFG': 'Sep:2021',\n",
              "  'Price': 120,\n",
              "  'Product_name': 'Winnowing',\n",
              "  'Quantity': 50},\n",
              " '1928016': {'EXP': 'Dec:2023',\n",
              "  'MFG': 'Jan:2021',\n",
              "  'Price': 160,\n",
              "  'Product_name': 'Cupuacu',\n",
              "  'Quantity': 70},\n",
              " '1928017': {'EXP': 'Dec:2023',\n",
              "  'MFG': 'Feb:2021',\n",
              "  'Price': 120,\n",
              "  'Product_name': 'Conching',\n",
              "  'Quantity': 60},\n",
              " '1928018': {'EXP': 'Jan:2022',\n",
              "  'MFG': 'Oct:2021',\n",
              "  'Price': 130,\n",
              "  'Product_name': 'Chocolatier',\n",
              "  'Quantity': 100},\n",
              " '1928019': {'EXP': 'Oct:2023',\n",
              "  'MFG': 'Aug:2021',\n",
              "  'Price': 100,\n",
              "  'Product_name': 'Bournville',\n",
              "  'Quantity': 80},\n",
              " '1928020': {'EXP': 'May:2024',\n",
              "  'MFG': 'Jun:2021',\n",
              "  'Price': 140,\n",
              "  'Product_name': 'Poppins ',\n",
              "  'Quantity': 90},\n",
              " '1928021': {'EXP': 'Nov:2023',\n",
              "  'MFG': 'Sep:2021',\n",
              "  'Price': 120,\n",
              "  'Product_name': 'Mazelo',\n",
              "  'Quantity': 50},\n",
              " '1928022': {'EXP': 'Dec:2023',\n",
              "  'MFG': 'Jan:2021',\n",
              "  'Price': 160,\n",
              "  'Product_name': 'Skittles',\n",
              "  'Quantity': 70},\n",
              " '1928023': {'EXP': 'Dec:2023',\n",
              "  'MFG': 'Feb:2021',\n",
              "  'Price': 120,\n",
              "  'Product_name': 'Snickers',\n",
              "  'Quantity': 60},\n",
              " '1928024': {'EXP': 'Jan:2022',\n",
              "  'MFG': 'Oct:2021',\n",
              "  'Price': 130,\n",
              "  'Product_name': 'Mars bar',\n",
              "  'Quantity': 100},\n",
              " '1928025': {'EXP': 'Oct:2023',\n",
              "  'MFG': 'Aug:2021',\n",
              "  'Price': 100,\n",
              "  'Product_name': 'Ferrero',\n",
              "  'Quantity': 80},\n",
              " '1928026': {'EXP': 'May:2024',\n",
              "  'MFG': 'Jun:2021',\n",
              "  'Price': 140,\n",
              "  'Product_name': 'Goldenberry',\n",
              "  'Quantity': 90},\n",
              " '1928027': {'EXP': 'Nov:2023',\n",
              "  'MFG': 'Sep:2021',\n",
              "  'Price': 120,\n",
              "  'Product_name': 'Toblerone',\n",
              "  'Quantity': 50},\n",
              " '1928028': {'EXP': 'Dec:2025',\n",
              "  'MFG': 'Jan:2021',\n",
              "  'Price': 160,\n",
              "  'Product_name': 'IntenseDark',\n",
              "  'Quantity': 70},\n",
              " '1928029': {'EXP': 'Dec:2023',\n",
              "  'MFG': 'Feb:2021',\n",
              "  'Price': 120,\n",
              "  'Product_name': 'Lindt',\n",
              "  'Quantity': 60},\n",
              " '1928030': {'EXP': 'Jan:2022',\n",
              "  'MFG': 'Oct:2021',\n",
              "  'Price': 130,\n",
              "  'Product_name': 'Fabelle',\n",
              "  'Quantity': 100}}"
            ]
          },
          "metadata": {},
          "execution_count": 2
        }
      ]
    },
    {
      "cell_type": "markdown",
      "metadata": {
        "id": "tr5YdofiLyFc"
      },
      "source": [
        "**MENU**"
      ]
    },
    {
      "cell_type": "code",
      "metadata": {
        "colab": {
          "base_uri": "https://localhost:8080/"
        },
        "id": "uPiBZHDJL3EV",
        "outputId": "b736209d-133b-4271-af43-9070912e3338"
      },
      "source": [
        "print('Product_ID','\\t','Price','\\t','Quantity','\\t','Product_Name')  #Displaying the Inventory List to User\n",
        "print('***************************************************')\n",
        "for key,value in record.items():\n",
        "  print(key,'\\t',value['Price'],'\\t',value['Quantity'],'\\t\\t',value['Product_name'])"
      ],
      "execution_count": 3,
      "outputs": [
        {
          "output_type": "stream",
          "name": "stdout",
          "text": [
            "Product_ID \t Price \t Quantity \t Product_Name\n",
            "***************************************************\n",
            "1928001 \t 100 \t 80 \t\t Amenolado\n",
            "1928002 \t 140 \t 90 \t\t Ballotin\n",
            "1928003 \t 120 \t 50 \t\t Chocovic\n",
            "1928004 \t 160 \t 70 \t\t Devils_Food\n",
            "1928005 \t 120 \t 60 \t\t Enrober\n",
            "1928006 \t 130 \t 100 \t\t Forastero\n",
            "1928007 \t 100 \t 80 \t\t Ganache\n",
            "1928008 \t 140 \t 90 \t\t Magra\n",
            "1928009 \t 120 \t 50 \t\t Metate\n",
            "1928010 \t 160 \t 70 \t\t Molinillo\n",
            "1928011 \t 120 \t 60 \t\t Sugar_Bloom\n",
            "1928012 \t 130 \t 100 \t\t Tempering\n",
            "1928013 \t 100 \t 80 \t\t Trinitario\n",
            "1928014 \t 140 \t 90 \t\t Vanillin\n",
            "1928015 \t 120 \t 50 \t\t Winnowing\n",
            "1928016 \t 160 \t 70 \t\t Cupuacu\n",
            "1928017 \t 120 \t 60 \t\t Conching\n",
            "1928018 \t 130 \t 100 \t\t Chocolatier\n",
            "1928019 \t 100 \t 80 \t\t Bournville\n",
            "1928020 \t 140 \t 90 \t\t Poppins \n",
            "1928021 \t 120 \t 50 \t\t Mazelo\n",
            "1928022 \t 160 \t 70 \t\t Skittles\n",
            "1928023 \t 120 \t 60 \t\t Snickers\n",
            "1928024 \t 130 \t 100 \t\t Mars bar\n",
            "1928025 \t 100 \t 80 \t\t Ferrero\n",
            "1928026 \t 140 \t 90 \t\t Goldenberry\n",
            "1928027 \t 120 \t 50 \t\t Toblerone\n",
            "1928028 \t 160 \t 70 \t\t IntenseDark\n",
            "1928029 \t 120 \t 60 \t\t Lindt\n",
            "1928030 \t 130 \t 100 \t\t Fabelle\n"
          ]
        }
      ]
    },
    {
      "cell_type": "markdown",
      "metadata": {
        "id": "pojiH4VNo_DB"
      },
      "source": [
        "**Purchase**"
      ]
    },
    {
      "cell_type": "code",
      "metadata": {
        "colab": {
          "base_uri": "https://localhost:8080/"
        },
        "id": "dwRWb2MlpBdJ",
        "outputId": "e6ecb0d1-6275-409e-ee6c-b1cf314d0b53"
      },
      "source": [
        "import time\n",
        "user_request=1\n",
        "TotalAmount=0\n",
        "no_of_transactions =1   #number of quantity in sale list\n",
        "sales={}\n",
        "\n",
        "\n",
        "while user_request==1 :\n",
        "  prod_id  = (input(\"Enter the product_Id: \"))\n",
        "  print(\"Product: \", record[prod_id][\"Product_name\"])\n",
        "  print(\"Price: \", record[prod_id][\"Price\"])\n",
        "  print(\"Quantity Avilable: \", record[prod_id][\"Quantity\"])\n",
        "  print('*******')\n",
        "\n",
        "  prod_quantity = int(input(\"Enter the quantity: \"))\n",
        "\n",
        "\n",
        "  if record[prod_id][\"Quantity\"] < prod_quantity : #If quantity is Not Avilable\n",
        "       print(\"Quantity not avilable\")\n",
        "       print('*******************************************************')\n",
        "  else:\n",
        "       print(\"Product: \", record[prod_id][\"Product_name\"]) #If quantity avilable \n",
        "       print(\"Price: \", record[prod_id][\"Price\"])\n",
        "       TotalAmount = (record[prod_id][\"Price\"] * prod_quantity) + TotalAmount\n",
        "       record[prod_id][\"Quantity\"] = record[prod_id][\"Quantity\"] - prod_quantity\n",
        "       print('Item Added to Cart')\n",
        "\n",
        "       # Maintaning the SALES RECORD\n",
        "\n",
        "       sales.update({no_of_transactions: {'Product_ID' : prod_id, 'Quantity' : prod_quantity , 'Amount': (record[prod_id][\"Price\"] * prod_quantity), 'Time':time.ctime()}})\n",
        "       no_of_transactions +=1\n",
        "  print('\\n')     \n",
        "  print(\"Want to ADD  more items (PRESS 1) else (PRESS 0)\")\n",
        "  user_request= int(input('enter your choice:  '))\n",
        "  print('*********************************************************')\n",
        "\n",
        "\n",
        "print('*********************************************************')\n",
        "print(\"Billing Amount:\",TotalAmount)\n",
        "\n"
      ],
      "execution_count": 5,
      "outputs": [
        {
          "output_type": "stream",
          "name": "stdout",
          "text": [
            "Enter the product_Id: 1928001\n",
            "Product:  Amenolado\n",
            "Price:  100\n",
            "Quantity Avilable:  80\n",
            "*******\n",
            "Enter the quantity: 2\n",
            "Product:  Amenolado\n",
            "Price:  100\n",
            "Item Added to Cart\n",
            "\n",
            "\n",
            "Want to ADD  more items (PRESS 1) else (PRESS 0)\n",
            "enter your choice:  0\n",
            "*********************************************************\n",
            "*********************************************************\n",
            "Billing Amount: 200\n"
          ]
        }
      ]
    },
    {
      "cell_type": "markdown",
      "metadata": {
        "id": "2WYE9CSUzozP"
      },
      "source": [
        "**Update Inventory after purchase**"
      ]
    },
    {
      "cell_type": "code",
      "metadata": {
        "id": "mJ6fBaRczxhG"
      },
      "source": [
        "js = json.dumps(records)\n",
        "\n",
        "fd = open(\"record.json\",'w')\n",
        "fd.write(js)\n",
        "fd.close()\n"
      ],
      "execution_count": null,
      "outputs": []
    },
    {
      "cell_type": "markdown",
      "metadata": {
        "id": "5F-PeYcuz4_S"
      },
      "source": [
        "**Sales JSON**"
      ]
    },
    {
      "cell_type": "code",
      "metadata": {
        "id": "PLvH1B5Lzx2r",
        "colab": {
          "base_uri": "https://localhost:8080/"
        },
        "outputId": "ef84ec56-4e3d-431d-d873-159b1494b9a1"
      },
      "source": [
        "sales"
      ],
      "execution_count": 6,
      "outputs": [
        {
          "output_type": "execute_result",
          "data": {
            "text/plain": [
              "{1: {'Amount': 200,\n",
              "  'Product_ID': '1928001',\n",
              "  'Quantity': 2,\n",
              "  'Time': 'Mon Sep  6 11:36:19 2021'}}"
            ]
          },
          "metadata": {},
          "execution_count": 6
        }
      ]
    },
    {
      "cell_type": "code",
      "metadata": {
        "id": "aIUqLcLl4APp"
      },
      "source": [
        "\n",
        "sale = json.dumps(sales)\n",
        "fd=open(\"sale.json\",'w')\n",
        "fd.write(sale)\n",
        "fd.close()"
      ],
      "execution_count": 8,
      "outputs": []
    }
  ]
}